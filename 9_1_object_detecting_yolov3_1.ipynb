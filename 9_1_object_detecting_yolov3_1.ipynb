{
  "nbformat": 4,
  "nbformat_minor": 0,
  "metadata": {
    "colab": {
      "provenance": [],
      "include_colab_link": true
    },
    "kernelspec": {
      "name": "python3",
      "display_name": "Python 3"
    },
    "language_info": {
      "name": "python"
    }
  },
  "cells": [
    {
      "cell_type": "markdown",
      "metadata": {
        "id": "view-in-github",
        "colab_type": "text"
      },
      "source": [
        "<a href=\"https://colab.research.google.com/github/yleessam/2501_dl_env_colab/blob/main/9_1_object_detecting_yolov3_1.ipynb\" target=\"_parent\"><img src=\"https://colab.research.google.com/assets/colab-badge.svg\" alt=\"Open In Colab\"/></a>"
      ]
    },
    {
      "cell_type": "markdown",
      "source": [
        "# 정지 영상에서 객체 탐지"
      ],
      "metadata": {
        "id": "VYpqNCLAKYBY"
      }
    },
    {
      "cell_type": "markdown",
      "source": [
        "## 필요한 라이브러리 import"
      ],
      "metadata": {
        "id": "1b497YWzkO4k"
      }
    },
    {
      "cell_type": "code",
      "source": [
        "import cv2 as cv\n",
        "import numpy as np\n",
        "from google.colab.patches import cv2_imshow # Google Colab에서 이미지를 표시하기 위한 함수"
      ],
      "metadata": {
        "id": "DBVXr1I0Gzh6"
      },
      "execution_count": null,
      "outputs": []
    },
    {
      "cell_type": "markdown",
      "source": [
        "## YOLO(YOu Only Look Once) 모델 관련 파일 다운로드"
      ],
      "metadata": {
        "id": "rgbjt6CY0xYC"
      }
    },
    {
      "cell_type": "code",
      "source": [
        "# YOLO(YOu Only Look Once) 모델\n",
        "!wget https://pjreddie.com/media/files/yolov3.weights\n",
        "!wget https://github.com/pjreddie/darknet/blob/master/cfg/yolov3.cfg?raw=true -O yolov3.cfg\n",
        "!wget https://github.com/pjreddie/darknet/blob/master/data/coco.names?raw=true -O coco.names"
      ],
      "metadata": {
        "id": "ohJ9HtA20xYC",
        "collapsed": true
      },
      "execution_count": null,
      "outputs": []
    },
    {
      "cell_type": "markdown",
      "source": [
        "## YOLO 모델 초기화 및 로드 함수"
      ],
      "metadata": {
        "id": "XnrIWzLhl9SW"
      }
    },
    {
      "cell_type": "code",
      "source": [
        "def load_yolo():\n",
        "    net = cv.dnn.readNet(\"yolov3.weights\", \"yolov3.cfg\")\n",
        "    with open(\"coco.names\", \"r\") as f:\n",
        "        classes = [line.strip() for line in f.readlines()]\n",
        "    layers_names = net.getLayerNames()\n",
        "    output_layers = [layers_names[i - 1] for i in net.getUnconnectedOutLayers().flatten()]\n",
        "    colors = np.random.uniform(0, 255, size=(len(classes), 3))\n",
        "    return net, classes, colors, output_layers"
      ],
      "metadata": {
        "id": "MK9U3B_cmCu3"
      },
      "execution_count": null,
      "outputs": []
    },
    {
      "cell_type": "markdown",
      "source": [
        "## 이미지 로드 및 전처리 함수"
      ],
      "metadata": {
        "id": "suoCL6-jmH69"
      }
    },
    {
      "cell_type": "code",
      "source": [
        "def load_image(img_path):\n",
        "    img = cv.imread(img_path)\n",
        "    img = cv.resize(img, None, fx=0.4, fy=0.4)\n",
        "    height, width, channels = img.shape\n",
        "    return img, height, width, channels"
      ],
      "metadata": {
        "id": "5rRD6_pimMgF"
      },
      "execution_count": null,
      "outputs": []
    },
    {
      "cell_type": "markdown",
      "source": [
        "## 객체 탐지 함수"
      ],
      "metadata": {
        "id": "027RSbWxnCrP"
      }
    },
    {
      "cell_type": "code",
      "source": [
        "def detect_objects(img, net, outputLayers):\n",
        "    blob = cv.dnn.blobFromImage(img, scalefactor=0.00392, size=(416, 416), mean=(0, 0, 0), swapRB=True, crop=False)\n",
        "    net.setInput(blob)\n",
        "    outputs = net.forward(outputLayers)\n",
        "    return blob, outputs\n"
      ],
      "metadata": {
        "id": "kC9SKPTPnKc-"
      },
      "execution_count": null,
      "outputs": []
    },
    {
      "cell_type": "markdown",
      "source": [
        "## 탐지된 객체 정보"
      ],
      "metadata": {
        "id": "xRhd0EYCrno7"
      }
    },
    {
      "cell_type": "markdown",
      "source": [
        "\n",
        "YOLO 네트워크의 출력에서 객체의 위치와 해당 클래스의 신뢰도를 추출하여 리스트로 저장\n",
        "\n",
        "YOLO 모델의 출력을 파싱하여 각 객체에 대한 경계 상자의 위치, 신뢰도 점수 및 클래스 ID를 추출합니다. 이 정보는 객체를 이미지 위에 표시하거나 추가 분석을 위해 사용"
      ],
      "metadata": {
        "id": "k3HyycQDojZt"
      }
    },
    {
      "cell_type": "code",
      "source": [
        "def get_box_dimensions(outputs, height, width):\n",
        "    boxes = []\n",
        "    confs = []\n",
        "    class_ids = []\n",
        "\n",
        "    for output in outputs:\n",
        "        for detect in output:\n",
        "            scores = detect[5:]\n",
        "            class_id = np.argmax(scores)\n",
        "            confidence = scores[class_id]\n",
        "\n",
        "            if confidence > 0.5:\n",
        "                center_x = int(detect[0] * width)\n",
        "                center_y = int(detect[1] * height)\n",
        "                w = int(detect[2] * width)\n",
        "                h = int(detect[3] * height)\n",
        "\n",
        "                x = int(center_x - w / 2)\n",
        "                y = int(center_y - h / 2)\n",
        "\n",
        "                boxes.append([x, y, w, h])\n",
        "                confs.append(float(confidence))\n",
        "                class_ids.append(class_id)\n",
        "\n",
        "    return boxes, confs, class_ids\n"
      ],
      "metadata": {
        "id": "oUrvhodzosFT"
      },
      "execution_count": null,
      "outputs": []
    },
    {
      "cell_type": "markdown",
      "source": [
        "## NMS & 바운딩 박스 그리기 함수"
      ],
      "metadata": {
        "id": "20bv0aR7r1M_"
      }
    },
    {
      "cell_type": "code",
      "source": [
        "def draw_labels(boxes, confs, colors, class_ids, classes, img):\n",
        "    indexes = cv.dnn.NMSBoxes(boxes, confs, 0.5, 0.4)\n",
        "    font = cv.FONT_HERSHEY_PLAIN\n",
        "    for i in range(len(boxes)):\n",
        "        if i in indexes:\n",
        "            x, y, w, h = boxes[i]\n",
        "            label = str(classes[class_ids[i]])\n",
        "            confidence = confs[i]\n",
        "            color = colors[class_ids[i]]\n",
        "            cv.rectangle(img, (x, y), (x + w, y + h), color, 2)\n",
        "            cv.putText(img, f\"{label} {confidence:.2f}\", (x, y + 30), font, 1, color, 2)\n",
        "    cv2_imshow(img)"
      ],
      "metadata": {
        "id": "EUDPFo5Cr0CG"
      },
      "execution_count": null,
      "outputs": []
    },
    {
      "cell_type": "markdown",
      "source": [
        "## 객체 탐지 실행\n"
      ],
      "metadata": {
        "id": "7_hjhb9wsQ4D"
      }
    },
    {
      "cell_type": "markdown",
      "source": [
        "구글 이미지 검색 > 마우스 우클릭 > 링크주소 복사 실행"
      ],
      "metadata": {
        "id": "NRc1Ovjy6esP"
      }
    },
    {
      "cell_type": "code",
      "source": [
        "import requests\n",
        "\n",
        "# 이미지 URL\n",
        "image_url = \"https://images.squarespace-cdn.com/content/v1/56690c0ca128e6e00f021af6/1461148473502-9D3SLDUVC7J87LTG63SL/BEAD+Al+Bateen+street2.JPG\"\n",
        "\n",
        "# 저장할 파일 이름\n",
        "output_file = \"street2.jpg\"\n",
        "\n",
        "# 이미지 다운로드 및 저장\n",
        "response = requests.get(image_url, stream=True)\n",
        "if response.status_code == 200:\n",
        "    with open(output_file, \"wb\") as file:\n",
        "        file.write(response.content)\n",
        "    print(f\"이미지가 {output_file}로 저장되었습니다!\")\n",
        "else:\n",
        "    print(f\"이미지를 다운로드할 수 없습니다. 상태 코드: {response.status_code}\")\n"
      ],
      "metadata": {
        "id": "6-cMZ0ZI5Jah",
        "outputId": "8f07791e-ee9a-4d68-850a-7ba66dec0948",
        "colab": {
          "base_uri": "https://localhost:8080/"
        }
      },
      "execution_count": null,
      "outputs": [
        {
          "output_type": "stream",
          "name": "stdout",
          "text": [
            "이미지가 street2.jpg로 저장되었습니다!\n"
          ]
        }
      ]
    },
    {
      "cell_type": "code",
      "source": [
        "net, classes, colors, output_layers = load_yolo()\n",
        "\n",
        "image, height, width, channels = load_image(\"street2.jpg\")\n",
        "\n",
        "blob, outputs = detect_objects(image, net, output_layers)\n",
        "\n",
        "boxes, confs, class_ids = get_box_dimensions(outputs, height, width)\n",
        "\n",
        "draw_labels(boxes, confs, colors, class_ids, classes, image)\n"
      ],
      "metadata": {
        "id": "TX9UGrxyGpUO"
      },
      "execution_count": null,
      "outputs": []
    }
  ]
}