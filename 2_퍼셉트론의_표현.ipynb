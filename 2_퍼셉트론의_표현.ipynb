{
  "nbformat": 4,
  "nbformat_minor": 0,
  "metadata": {
    "colab": {
      "provenance": [],
      "authorship_tag": "ABX9TyMrmXhXbXNcZTx/btaXWuIG",
      "include_colab_link": true
    },
    "kernelspec": {
      "name": "python3",
      "display_name": "Python 3"
    },
    "language_info": {
      "name": "python"
    }
  },
  "cells": [
    {
      "cell_type": "markdown",
      "metadata": {
        "id": "view-in-github",
        "colab_type": "text"
      },
      "source": [
        "<a href=\"https://colab.research.google.com/github/yleessam/2501_dl_env_colab/blob/main/2_%ED%8D%BC%EC%85%89%ED%8A%B8%EB%A1%A0%EC%9D%98_%ED%91%9C%ED%98%84.ipynb\" target=\"_parent\"><img src=\"https://colab.research.google.com/assets/colab-badge.svg\" alt=\"Open In Colab\"/></a>"
      ]
    },
    {
      "cell_type": "markdown",
      "source": [
        "#and w1*x1 + w2*x2 = y\n",
        "1 1 = 1   0.5*1 + 0.5*1 > 0.7 = 0.5+0.5+0.7 = 1.2   \n",
        "0 0 = 0   0.5*0 + 0.5*0 > 0.7 = 0.7 > 0   \n",
        "0 1 = 0   \n",
        "1 0 = 0   \n"
      ],
      "metadata": {
        "id": "Y56SSP6OLALV"
      }
    },
    {
      "cell_type": "code",
      "execution_count": 2,
      "metadata": {
        "id": "Ka8oLsYEKnDK"
      },
      "outputs": [],
      "source": [
        "def AND(x1, x2) :\n",
        "  w1, w2, theta = 0.5, 0.5, 0.7 #가중치\n",
        "  tmp = x1*w1 + x2*w2\n",
        "  if tmp <= theta :\n",
        "    return 0\n",
        "  elif tmp > theta :\n",
        "    return 1"
      ]
    },
    {
      "cell_type": "code",
      "source": [
        "print(AND(0,0))\n",
        "print(AND(1,0))\n",
        "print(AND(0,1))\n",
        "print(AND(1,1))"
      ],
      "metadata": {
        "colab": {
          "base_uri": "https://localhost:8080/"
        },
        "id": "20tPenIrMFkP",
        "outputId": "4919faf6-7c22-4809-d291-a073180e59d0"
      },
      "execution_count": 4,
      "outputs": [
        {
          "output_type": "stream",
          "name": "stdout",
          "text": [
            "0\n",
            "0\n",
            "0\n",
            "1\n"
          ]
        }
      ]
    },
    {
      "cell_type": "code",
      "source": [
        "def OR(x1, x2) :\n",
        "  w1, w2, theta = 0.5, 0.5, 0.2 #가중치\n",
        "  tmp = x1*w1 + x2*w2\n",
        "  if tmp <= theta :\n",
        "    return 0\n",
        "  elif tmp > theta :\n",
        "    return 1"
      ],
      "metadata": {
        "id": "7xV8QAk7Md5M"
      },
      "execution_count": 5,
      "outputs": []
    },
    {
      "cell_type": "code",
      "source": [
        "print(OR(0,0))\n",
        "print(OR(1,0))\n",
        "print(OR(0,1))\n",
        "print(OR(1,1))"
      ],
      "metadata": {
        "colab": {
          "base_uri": "https://localhost:8080/"
        },
        "id": "CqChriR2M9YJ",
        "outputId": "df1569ec-18dd-429f-d78d-e5e55692ea14"
      },
      "execution_count": 6,
      "outputs": [
        {
          "output_type": "stream",
          "name": "stdout",
          "text": [
            "0\n",
            "1\n",
            "1\n",
            "1\n"
          ]
        }
      ]
    },
    {
      "cell_type": "markdown",
      "source": [
        "# 뉴런으로 정의한 논리 게이트"
      ],
      "metadata": {
        "id": "oErbLcezRi6D"
      }
    },
    {
      "cell_type": "code",
      "source": [
        "import numpy as np\n",
        "\n",
        "def AND(x1, x2):\n",
        "  x = np.array([x1, x2])\n",
        "  w = np.array([0.5, 0.5])\n",
        "  b = -0.7\n",
        "  tmp = np.sum(x*w) + b\n",
        "\n",
        "  if tmp<=0:\n",
        "    return 0\n",
        "  else :\n",
        "    return 1"
      ],
      "metadata": {
        "id": "M1R7jBlpQaj6"
      },
      "execution_count": 13,
      "outputs": []
    },
    {
      "cell_type": "code",
      "source": [
        "print(AND(0,0))\n",
        "print(AND(1,0))\n",
        "print(AND(0,1))\n",
        "print(AND(1,1))"
      ],
      "metadata": {
        "colab": {
          "base_uri": "https://localhost:8080/"
        },
        "id": "sJ4a6oCXRo1o",
        "outputId": "b6b4c53b-7fe4-4d88-8985-c61ae2dff1b2"
      },
      "execution_count": 14,
      "outputs": [
        {
          "output_type": "stream",
          "name": "stdout",
          "text": [
            "0\n",
            "0\n",
            "0\n",
            "1\n"
          ]
        }
      ]
    },
    {
      "cell_type": "code",
      "source": [
        "def OR(x1, x2):\n",
        "  x = np.array([x1, x2])\n",
        "  w = np.array([0.5, 0.5])\n",
        "  b = -0.2\n",
        "  tmp = np.sum(x*w) + b\n",
        "  if tmp<=0:\n",
        "    return 0\n",
        "  else :\n",
        "    return 1"
      ],
      "metadata": {
        "id": "cZyDWyc6RSOz"
      },
      "execution_count": 15,
      "outputs": []
    },
    {
      "cell_type": "code",
      "source": [
        "print(OR(0,0))\n",
        "print(OR(1,0))\n",
        "print(OR(0,1))\n",
        "print(OR(1,1))"
      ],
      "metadata": {
        "colab": {
          "base_uri": "https://localhost:8080/"
        },
        "id": "1dFNkK-zRpe4",
        "outputId": "8188d3b3-ec2f-42a7-e431-72822cfc20b9"
      },
      "execution_count": 16,
      "outputs": [
        {
          "output_type": "stream",
          "name": "stdout",
          "text": [
            "0\n",
            "1\n",
            "1\n",
            "1\n"
          ]
        }
      ]
    },
    {
      "cell_type": "code",
      "source": [
        "def NAND(x1, x2):\n",
        "  x = np.array([x1, x2])\n",
        "  w = np.array([-0.5, -0.5])\n",
        "  b = 0.7\n",
        "  tmp = np.sum(x*w) + b\n",
        "  if tmp<=0:\n",
        "    return 0\n",
        "  else :\n",
        "    return 1"
      ],
      "metadata": {
        "id": "mRHvQuMHRa2j"
      },
      "execution_count": 20,
      "outputs": []
    },
    {
      "cell_type": "code",
      "source": [
        "print(NAND(0,0))\n",
        "print(NAND(1,0))\n",
        "print(NAND(0,1))\n",
        "print(NAND(1,1))"
      ],
      "metadata": {
        "colab": {
          "base_uri": "https://localhost:8080/"
        },
        "id": "kpLCN7YzRriA",
        "outputId": "383a7323-e954-4bfa-d625-9993cc6ab25b"
      },
      "execution_count": 21,
      "outputs": [
        {
          "output_type": "stream",
          "name": "stdout",
          "text": [
            "1\n",
            "1\n",
            "1\n",
            "0\n"
          ]
        }
      ]
    },
    {
      "cell_type": "markdown",
      "source": [
        "# 다층 퍼셉트론 Multi Layer Perceptron\n",
        "\n",
        "x1 x2  nand  or  and = y   \n",
        "0  0    1    0   0     0   \n",
        "1  0    1    1   1     1   \n",
        "0  1    1    1   1     1   \n",
        "1  1    0    0   0     0   \n"
      ],
      "metadata": {
        "id": "7PnF8pg-S_pk"
      }
    },
    {
      "cell_type": "markdown",
      "source": [
        "![image.png](data:image/png;base64,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)"
      ],
      "metadata": {
        "id": "z4i4FWe1U5-v"
      }
    },
    {
      "cell_type": "code",
      "source": [
        "def XOR(x1, x2):\n",
        "  s1 = NAND(x1, x2)\n",
        "  s2 = OR(x1, x2)\n",
        "\n",
        "  y = AND(s1, s2)\n",
        "\n",
        "  return y"
      ],
      "metadata": {
        "id": "syCMfpsnT9mn"
      },
      "execution_count": 24,
      "outputs": []
    },
    {
      "cell_type": "code",
      "source": [
        "print(XOR(0,0))\n",
        "print(XOR(1,0))\n",
        "print(XOR(0,1))\n",
        "print(XOR(1,1))"
      ],
      "metadata": {
        "colab": {
          "base_uri": "https://localhost:8080/"
        },
        "id": "uOa7fdJXUSnu",
        "outputId": "4c0307fc-a0be-471d-b514-9c946d90b983"
      },
      "execution_count": 25,
      "outputs": [
        {
          "output_type": "stream",
          "name": "stdout",
          "text": [
            "0\n",
            "1\n",
            "1\n",
            "0\n"
          ]
        }
      ]
    },
    {
      "cell_type": "markdown",
      "source": [
        "1. 퍼셉트론은 입력과 출력이 있는 알고리즘이다. 입력을 정해진 규칙에 따라 계산해서 출력한다.\n",
        "2. 퍼셉트론은 가중치와 편향(바이어스)를 이용해서 매개변수로 설정한다.\n",
        "3. 퍼셉트론 하나로 AND, OR 같은 논리 게이트를 구성할 수 있다 - 선형\n",
        "4. XOR 같은 복합논리는 퍼셉트론을 연결해서 처리한다 - 비선형\n",
        "5. XOR는 2단 퍼셉트론으로 구성할 수 있다."
      ],
      "metadata": {
        "id": "jFQhWSn4VbWe"
      }
    },
    {
      "cell_type": "markdown",
      "source": [
        "# MNIST 데이터셋으로 신경망 구성"
      ],
      "metadata": {
        "id": "E70eTB_UaB4k"
      }
    },
    {
      "cell_type": "code",
      "source": [
        "from tensorflow.keras.datasets import mnist\n",
        "(train_images, train_labels), (test_images, test_labels) = mnist.load_data()\n"
      ],
      "metadata": {
        "colab": {
          "base_uri": "https://localhost:8080/"
        },
        "id": "eRcJapG1Z7G0",
        "outputId": "5a7ed313-5cd9-4b8a-d4b2-d4aa48df5336"
      },
      "execution_count": 26,
      "outputs": [
        {
          "output_type": "stream",
          "name": "stdout",
          "text": [
            "Downloading data from https://storage.googleapis.com/tensorflow/tf-keras-datasets/mnist.npz\n",
            "\u001b[1m11490434/11490434\u001b[0m \u001b[32m━━━━━━━━━━━━━━━━━━━━\u001b[0m\u001b[37m\u001b[0m \u001b[1m0s\u001b[0m 0us/step\n"
          ]
        }
      ]
    },
    {
      "cell_type": "code",
      "source": [
        "train_images.shape"
      ],
      "metadata": {
        "colab": {
          "base_uri": "https://localhost:8080/"
        },
        "id": "cds3lsFKameY",
        "outputId": "a54f93a6-8ba1-4d1d-b392-867c7bcdfeb8"
      },
      "execution_count": 27,
      "outputs": [
        {
          "output_type": "execute_result",
          "data": {
            "text/plain": [
              "(60000, 28, 28)"
            ]
          },
          "metadata": {},
          "execution_count": 27
        }
      ]
    },
    {
      "cell_type": "code",
      "source": [
        "len(train_labels)"
      ],
      "metadata": {
        "colab": {
          "base_uri": "https://localhost:8080/"
        },
        "id": "3lhLheIhasoH",
        "outputId": "9c2a6f0b-2f65-4da7-bb18-54838320bb2c"
      },
      "execution_count": 28,
      "outputs": [
        {
          "output_type": "execute_result",
          "data": {
            "text/plain": [
              "60000"
            ]
          },
          "metadata": {},
          "execution_count": 28
        }
      ]
    },
    {
      "cell_type": "code",
      "source": [
        "train_labels[:5]"
      ],
      "metadata": {
        "colab": {
          "base_uri": "https://localhost:8080/"
        },
        "id": "T1JnLHa8ax2G",
        "outputId": "b4ed40b7-e86c-487e-f86f-57a2aa13949f"
      },
      "execution_count": 29,
      "outputs": [
        {
          "output_type": "execute_result",
          "data": {
            "text/plain": [
              "array([5, 0, 4, 1, 9], dtype=uint8)"
            ]
          },
          "metadata": {},
          "execution_count": 29
        }
      ]
    },
    {
      "cell_type": "code",
      "source": [
        "28*28"
      ],
      "metadata": {
        "colab": {
          "base_uri": "https://localhost:8080/"
        },
        "id": "1egkQf8sbYE6",
        "outputId": "62d7f97b-3ccc-446a-c4b1-6cb9c807d970"
      },
      "execution_count": 30,
      "outputs": [
        {
          "output_type": "execute_result",
          "data": {
            "text/plain": [
              "784"
            ]
          },
          "metadata": {},
          "execution_count": 30
        }
      ]
    },
    {
      "cell_type": "code",
      "source": [
        "from tensorflow import keras\n",
        "from tensorflow.keras import layers\n",
        "\n",
        "model = keras.Sequential([\n",
        "    layers.Dense(512, activation='relu'),\n",
        "    layers.Dense(10, activation='softmax' )]\n",
        ")"
      ],
      "metadata": {
        "id": "Dhn5hcLca6fJ"
      },
      "execution_count": 32,
      "outputs": []
    },
    {
      "cell_type": "code",
      "source": [
        "model.compile(\n",
        "    optimizer='rmsprop',\n",
        "    loss='sparse_categorical_crossentropy',\n",
        "    metrics=['accuracy']\n",
        ")"
      ],
      "metadata": {
        "id": "QiGYHBijcGXq"
      },
      "execution_count": 33,
      "outputs": []
    },
    {
      "cell_type": "code",
      "source": [
        "train_images = train_images.reshape((60000, 28*28))\n",
        "train_images = train_images.astype('float32') / 255\n",
        "\n",
        "test_images = test_images.reshape((10000, 28*28))\n",
        "test_images = test_images.astype('float32') / 25"
      ],
      "metadata": {
        "id": "xb2wsOKScpvd"
      },
      "execution_count": 34,
      "outputs": []
    },
    {
      "cell_type": "code",
      "source": [
        "model.fit(train_images, train_labels, epochs=5, batch_size=128)"
      ],
      "metadata": {
        "colab": {
          "base_uri": "https://localhost:8080/"
        },
        "id": "k5Ie9GVzcY4a",
        "outputId": "5793ffa2-4c51-4813-dfd0-9bf7c4c04cd9"
      },
      "execution_count": 35,
      "outputs": [
        {
          "output_type": "stream",
          "name": "stdout",
          "text": [
            "Epoch 1/5\n",
            "\u001b[1m469/469\u001b[0m \u001b[32m━━━━━━━━━━━━━━━━━━━━\u001b[0m\u001b[37m\u001b[0m \u001b[1m5s\u001b[0m 9ms/step - accuracy: 0.8754 - loss: 0.4245\n",
            "Epoch 2/5\n",
            "\u001b[1m469/469\u001b[0m \u001b[32m━━━━━━━━━━━━━━━━━━━━\u001b[0m\u001b[37m\u001b[0m \u001b[1m6s\u001b[0m 11ms/step - accuracy: 0.9669 - loss: 0.1176\n",
            "Epoch 3/5\n",
            "\u001b[1m469/469\u001b[0m \u001b[32m━━━━━━━━━━━━━━━━━━━━\u001b[0m\u001b[37m\u001b[0m \u001b[1m9s\u001b[0m 9ms/step - accuracy: 0.9781 - loss: 0.0735\n",
            "Epoch 4/5\n",
            "\u001b[1m469/469\u001b[0m \u001b[32m━━━━━━━━━━━━━━━━━━━━\u001b[0m\u001b[37m\u001b[0m \u001b[1m7s\u001b[0m 12ms/step - accuracy: 0.9850 - loss: 0.0502\n",
            "Epoch 5/5\n",
            "\u001b[1m469/469\u001b[0m \u001b[32m━━━━━━━━━━━━━━━━━━━━\u001b[0m\u001b[37m\u001b[0m \u001b[1m9s\u001b[0m 9ms/step - accuracy: 0.9890 - loss: 0.0366\n"
          ]
        },
        {
          "output_type": "execute_result",
          "data": {
            "text/plain": [
              "<keras.src.callbacks.history.History at 0x793331c73070>"
            ]
          },
          "metadata": {},
          "execution_count": 35
        }
      ]
    },
    {
      "cell_type": "code",
      "source": [
        "test_digits = test_images[0:10]\n",
        "predictions = model.predict(test_digits)\n",
        "predictions[0]"
      ],
      "metadata": {
        "colab": {
          "base_uri": "https://localhost:8080/"
        },
        "id": "A8U8Giv6gaS_",
        "outputId": "6b8ba091-096c-4059-de33-28e25dd40645"
      },
      "execution_count": 36,
      "outputs": [
        {
          "output_type": "stream",
          "name": "stdout",
          "text": [
            "\u001b[1m1/1\u001b[0m \u001b[32m━━━━━━━━━━━━━━━━━━━━\u001b[0m\u001b[37m\u001b[0m \u001b[1m0s\u001b[0m 45ms/step\n"
          ]
        },
        {
          "output_type": "execute_result",
          "data": {
            "text/plain": [
              "array([0.0000000e+00, 0.0000000e+00, 0.0000000e+00, 1.7029421e-35,\n",
              "       0.0000000e+00, 0.0000000e+00, 0.0000000e+00, 9.9999994e-01,\n",
              "       0.0000000e+00, 0.0000000e+00], dtype=float32)"
            ]
          },
          "metadata": {},
          "execution_count": 36
        }
      ]
    },
    {
      "cell_type": "code",
      "source": [
        "predictions[0].argmax()"
      ],
      "metadata": {
        "colab": {
          "base_uri": "https://localhost:8080/"
        },
        "id": "B4FLMtBRgr0R",
        "outputId": "bb66b79f-ef4d-4dd4-f306-63603da5c366"
      },
      "execution_count": 37,
      "outputs": [
        {
          "output_type": "execute_result",
          "data": {
            "text/plain": [
              "7"
            ]
          },
          "metadata": {},
          "execution_count": 37
        }
      ]
    },
    {
      "cell_type": "code",
      "source": [
        "test_labels[0]"
      ],
      "metadata": {
        "colab": {
          "base_uri": "https://localhost:8080/"
        },
        "id": "0uetIs7pg3Yj",
        "outputId": "7a951dc8-62fa-4c9d-f436-449ab49335b8"
      },
      "execution_count": 38,
      "outputs": [
        {
          "output_type": "execute_result",
          "data": {
            "text/plain": [
              "7"
            ]
          },
          "metadata": {},
          "execution_count": 38
        }
      ]
    },
    {
      "cell_type": "code",
      "source": [
        "test_loss, test_acc = model.evaluate(test_images, test_labels)\n",
        "test_loss, test_acc"
      ],
      "metadata": {
        "colab": {
          "base_uri": "https://localhost:8080/"
        },
        "id": "-8QdlHIvhbWn",
        "outputId": "ae154b16-bf38-4012-f254-88b0f0a8bc46"
      },
      "execution_count": 39,
      "outputs": [
        {
          "output_type": "stream",
          "name": "stdout",
          "text": [
            "\u001b[1m313/313\u001b[0m \u001b[32m━━━━━━━━━━━━━━━━━━━━\u001b[0m\u001b[37m\u001b[0m \u001b[1m1s\u001b[0m 2ms/step - accuracy: 0.9715 - loss: 0.6144\n"
          ]
        },
        {
          "output_type": "execute_result",
          "data": {
            "text/plain": [
              "(0.519847571849823, 0.9757000207901001)"
            ]
          },
          "metadata": {},
          "execution_count": 39
        }
      ]
    },
    {
      "cell_type": "code",
      "source": [
        "import tensorflow as tf\n",
        "x = tf.Variable(0.)\n",
        "with tf.GradientTape() as tape:\n",
        "  y = 2*x + 3\n",
        "\n",
        "grad_of_y_w_x = tape.gradient(y,x)\n",
        "grad_of_y_w_x"
      ],
      "metadata": {
        "colab": {
          "base_uri": "https://localhost:8080/"
        },
        "id": "GoELrRSKiqA-",
        "outputId": "30e42f22-af49-42a2-f125-f252670645b1"
      },
      "execution_count": 40,
      "outputs": [
        {
          "output_type": "execute_result",
          "data": {
            "text/plain": [
              "<tf.Tensor: shape=(), dtype=float32, numpy=2.0>"
            ]
          },
          "metadata": {},
          "execution_count": 40
        }
      ]
    },
    {
      "cell_type": "code",
      "source": [
        "x = tf.Variable(tf.zeros((2,2)))\n",
        "with tf.GradientTape() as tape:\n",
        "  y = 2*x + 3\n",
        "\n",
        "grad_of_y_w_x = tape.gradient(y,x)\n",
        "grad_of_y_w_x"
      ],
      "metadata": {
        "colab": {
          "base_uri": "https://localhost:8080/"
        },
        "id": "6KbTUsEti8sh",
        "outputId": "3108dcf1-a0d1-4319-bccc-e578b5f5e333"
      },
      "execution_count": 41,
      "outputs": [
        {
          "output_type": "execute_result",
          "data": {
            "text/plain": [
              "<tf.Tensor: shape=(2, 2), dtype=float32, numpy=\n",
              "array([[2., 2.],\n",
              "       [2., 2.]], dtype=float32)>"
            ]
          },
          "metadata": {},
          "execution_count": 41
        }
      ]
    }
  ]
}