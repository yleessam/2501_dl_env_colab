{
  "nbformat": 4,
  "nbformat_minor": 0,
  "metadata": {
    "colab": {
      "provenance": [],
      "authorship_tag": "ABX9TyNuL/1XZthXzA6gpMFgbt0o",
      "include_colab_link": true
    },
    "kernelspec": {
      "name": "python3",
      "display_name": "Python 3"
    },
    "language_info": {
      "name": "python"
    }
  },
  "cells": [
    {
      "cell_type": "markdown",
      "metadata": {
        "id": "view-in-github",
        "colab_type": "text"
      },
      "source": [
        "<a href=\"https://colab.research.google.com/github/yleessam/2501_dl_env_colab/blob/main/10_RNN.ipynb\" target=\"_parent\"><img src=\"https://colab.research.google.com/assets/colab-badge.svg\" alt=\"Open In Colab\"/></a>"
      ]
    },
    {
      "cell_type": "markdown",
      "source": [
        "건물 지붕 위의 센서에서 측정한 기압, 습도 등 매시간 기록된 시계열 데이터를 바탕으로 24시간 후의 온도를 예측하는 것입니다.  시계열 데이터가 우리가 지금까지 다룬 데이터셋들과는 근본적으로 다르다는 점을 잘 보여주는 사례가 온도 예측입니다.    순환 신경망 RNN이 이런 종류의 문제에 뛰어나다는 것을 확인 할 수 있습니다.\n",
        "\n",
        "이 데이터는 독일 예나(Jena)시에 있는 막스 플랑크 생물지구화학연구소(Max Planck Institute for Biogeochemistry)의 기상 관측소에서 수집되었습니다.\n",
        "\n",
        "이 데이터셋은 온도, 기압, 습도, 풍향 등 14개의 관측치가 10분 간격으로 수년간 기록되어 있습니다.\n",
        "\n",
        "원본 데이터는 2003년부터 기록되어 있지만, 이 예제에서는 2009~2016년 사이의 데이터만 사용합니다.\n",
        "\n",
        "먼저 데이터를 내려받고 살펴보겠습니다."
      ],
      "metadata": {
        "id": "cB9alwF-jFg2"
      }
    },
    {
      "cell_type": "markdown",
      "source": [
        "https://www.kaggle.com/datasets/stytch16/jena-climate-2009-2016"
      ],
      "metadata": {
        "id": "MPhryjnPjKjl"
      }
    },
    {
      "cell_type": "code",
      "execution_count": null,
      "metadata": {
        "id": "euXP6Pzs8k_i"
      },
      "outputs": [],
      "source": [
        "!wget https://s3.amazonaws.com/keras-datasets/jena_climate_2009_2016.csv.zip\n",
        "!unzip jena_climate_2009_2016.csv.zip"
      ]
    },
    {
      "cell_type": "code",
      "source": [
        "import os\n",
        "fname = os.path.join(\"jena_climate_2009_2016.csv\")\n",
        "\n",
        "with open(fname) as f:\n",
        "    data = f.read()\n",
        "\n",
        "lines = data.split(\"\\n\")\n",
        "header = lines[0].split(\",\")\n",
        "lines = lines[1:]\n",
        "print(header)\n",
        "print(len(lines))"
      ],
      "metadata": {
        "id": "zf1im5Pw8oZE"
      },
      "execution_count": null,
      "outputs": []
    },
    {
      "cell_type": "markdown",
      "source": [
        "출력된 데이터는 총 420,551줄이며, 각 줄은 하나의 타임스텝으로 날짜와 14개의 날씨 정보를 포함하고 있습니다.  헤더는 다음과 같습니다\n",
        "\n",
        "- Date Time (날짜 시간)\n",
        "- p (기압, mbar)\n",
        "- T (온도, degC)\n",
        "- Tpot (K)\n",
        "- Tdew (이슬점, degC)\n",
        "- rh (상대습도, %)\n",
        "- VPmax (mbar)\n",
        "- VPact (mbar)\n",
        "- VPdef (mbar)\n",
        "- sh (비습도, g/kg)\n",
        "- H2OC (mmol/mol)\n",
        "- rho (밀도, g/m³)\n",
        "- wv (풍속, m/s)\n",
        "- max. wv (최대 풍속, m/s)\n",
        "- wd (풍향, deg)"
      ],
      "metadata": {
        "id": "22Pu1SnujR-O"
      }
    },
    {
      "cell_type": "markdown",
      "source": [
        "420,551개의 데이터를 넘파이 배열로 변환합니다.\n",
        "\n",
        "온도(섭씨)는 하나의 배열로, 나머지 데이터는 별도의 배열로 만듭니다.\n",
        "\n",
        "두 번째 배열은 미래 온도 예측을 위한 특성으로 사용됩니다.\n",
        "\n",
        "'Date Time' 열은 제외합니다."
      ],
      "metadata": {
        "id": "Y4G309HhjYFu"
      }
    },
    {
      "cell_type": "code",
      "source": [
        "import numpy as np\n",
        "temperature = np.zeros((len(lines),))\n",
        "raw_data = np.zeros((len(lines), len(header) - 1))\n",
        "for i, line in enumerate(lines):\n",
        "    values = [float(x) for x in line.split(\",\")[1:]]\n",
        "    temperature[i] = values[1]\n",
        "    raw_data[i, :] = values[:]"
      ],
      "metadata": {
        "id": "0kIS4VW48rTi"
      },
      "execution_count": null,
      "outputs": []
    },
    {
      "cell_type": "markdown",
      "source": [
        "시간에 따른 온도(섭씨) 변화를 보여주는 그래프입니다.\n",
        "\n",
        "이 그래프를 통해 8년간의 데이터에서 매년 반복되는 온도의 주기성을 명확하게 확인할 수 있습니다."
      ],
      "metadata": {
        "id": "j5SDRecyjbLF"
      }
    },
    {
      "cell_type": "code",
      "source": [
        "from matplotlib import pyplot as plt\n",
        "plt.plot(range(len(temperature)), temperature)\n",
        "plt.show()"
      ],
      "metadata": {
        "id": "vWFGeZ0V8tCn"
      },
      "execution_count": null,
      "outputs": []
    },
    {
      "cell_type": "markdown",
      "source": [
        "데이터는 10분 간격으로 기록되어 하루에 144개의 데이터 포인트가 수집됩니다."
      ],
      "metadata": {
        "id": "Ntj6eDq_jdtY"
      }
    },
    {
      "cell_type": "markdown",
      "source": [
        "각 분할에 사용할 샘플 수 계산하기"
      ],
      "metadata": {
        "id": "OX2M37vK841M"
      }
    },
    {
      "cell_type": "markdown",
      "source": [
        "데이터 정규화"
      ],
      "metadata": {
        "id": "QxI3_wgq88GJ"
      }
    },
    {
      "cell_type": "markdown",
      "source": [
        "훈련, 검증, 테스트 데이터셋 만들기"
      ],
      "metadata": {
        "id": "X6HmehdO8-3F"
      }
    },
    {
      "cell_type": "markdown",
      "source": [
        "상식적인 기준 모델의 MAE 계산하기"
      ],
      "metadata": {
        "id": "zQsNJzpR8_7U"
      }
    },
    {
      "cell_type": "markdown",
      "source": [
        "밀집 연결 모델 훈련하고 평가하기"
      ],
      "metadata": {
        "id": "3M6eRSo29N-f"
      }
    },
    {
      "cell_type": "code",
      "source": [],
      "metadata": {
        "id": "0RgHvwvd9TNS"
      },
      "execution_count": null,
      "outputs": []
    },
    {
      "cell_type": "code",
      "source": [
        "import matplotlib.pyplot as plt\n",
        "loss = history.history[\"mae\"]\n",
        "val_loss = history.history[\"val_mae\"]\n",
        "epochs = range(1, len(loss) + 1)\n",
        "plt.figure()\n",
        "plt.plot(epochs, loss, \"bo\", label=\"Training MAE\")\n",
        "plt.plot(epochs, val_loss, \"b\", label=\"Validation MAE\")\n",
        "plt.title(\"Training and validation MAE\")\n",
        "plt.legend()\n",
        "plt.show()"
      ],
      "metadata": {
        "id": "u7KpsIa99S7e"
      },
      "execution_count": null,
      "outputs": []
    },
    {
      "cell_type": "markdown",
      "source": [
        "1D 합성곱 모델"
      ],
      "metadata": {
        "id": "aqiipCw29QwB"
      }
    },
    {
      "cell_type": "code",
      "source": [],
      "metadata": {
        "id": "SJErco4b9YR6"
      },
      "execution_count": null,
      "outputs": []
    },
    {
      "cell_type": "code",
      "source": [],
      "metadata": {
        "id": "LA4ykdKl9YnB"
      },
      "execution_count": null,
      "outputs": []
    },
    {
      "cell_type": "markdown",
      "source": [
        "간단한 LSTM 기반 모델"
      ],
      "metadata": {
        "id": "SJgyVHBR9cna"
      }
    },
    {
      "cell_type": "code",
      "source": [],
      "metadata": {
        "id": "QQJCZMNu9cNo"
      },
      "execution_count": null,
      "outputs": []
    },
    {
      "cell_type": "code",
      "source": [],
      "metadata": {
        "id": "LItU_WsO9idP"
      },
      "execution_count": null,
      "outputs": []
    },
    {
      "cell_type": "code",
      "source": [],
      "metadata": {
        "id": "SYL1zCIX9ixS"
      },
      "execution_count": null,
      "outputs": []
    },
    {
      "cell_type": "markdown",
      "source": [
        "넘파이로 구현한 간단한 RNN"
      ],
      "metadata": {
        "id": "ASAsDIab9jEg"
      }
    },
    {
      "cell_type": "code",
      "source": [],
      "metadata": {
        "id": "OWtlwTev9pFk"
      },
      "execution_count": null,
      "outputs": []
    },
    {
      "cell_type": "code",
      "source": [],
      "metadata": {
        "id": "yg3LadTU9p1D"
      },
      "execution_count": null,
      "outputs": []
    },
    {
      "cell_type": "markdown",
      "source": [
        "어떤 길이의 시퀀스도 처리할 수 있는 RNN 층"
      ],
      "metadata": {
        "id": "gKI7i_Yo9qa5"
      }
    },
    {
      "cell_type": "code",
      "source": [],
      "metadata": {
        "id": "LZJrz90e9u_h"
      },
      "execution_count": null,
      "outputs": []
    },
    {
      "cell_type": "markdown",
      "source": [
        "마지막 출력 스텝만 반환하는 RNN 층"
      ],
      "metadata": {
        "id": "hnmsrbCJ9vrr"
      }
    },
    {
      "cell_type": "code",
      "source": [],
      "metadata": {
        "id": "mW__2KqG9wPj"
      },
      "execution_count": null,
      "outputs": []
    },
    {
      "cell_type": "markdown",
      "source": [
        "전체 출력 시퀀스를 반환하는 RNN 층"
      ],
      "metadata": {
        "id": "ZMkRb7Pf9yTC"
      }
    },
    {
      "cell_type": "code",
      "source": [],
      "metadata": {
        "id": "n4SJpb5K9y7X"
      },
      "execution_count": null,
      "outputs": []
    },
    {
      "cell_type": "markdown",
      "source": [
        "스태킹(stacking) RNN 층"
      ],
      "metadata": {
        "id": "Ixo98x2_9zR2"
      }
    },
    {
      "cell_type": "code",
      "source": [],
      "metadata": {
        "id": "j-rwRTgA92Q2"
      },
      "execution_count": null,
      "outputs": []
    },
    {
      "cell_type": "markdown",
      "source": [
        "과대적합을 감소하기 위해 순환 드롭아웃 사용하기"
      ],
      "metadata": {
        "id": "SrIXGFjD93KK"
      }
    },
    {
      "cell_type": "code",
      "source": [],
      "metadata": {
        "id": "lPFUjQ1496O7"
      },
      "execution_count": null,
      "outputs": []
    },
    {
      "cell_type": "code",
      "source": [],
      "metadata": {
        "id": "r47nFh1F976n"
      },
      "execution_count": null,
      "outputs": []
    },
    {
      "cell_type": "markdown",
      "source": [
        "드롭아웃 규제와 스태킹을 적용한 GRU 모델을 훈련하고 평가하기"
      ],
      "metadata": {
        "id": "ttBDgQBp9_bK"
      }
    },
    {
      "cell_type": "code",
      "source": [],
      "metadata": {
        "id": "uGzY6Ch5-ABm"
      },
      "execution_count": null,
      "outputs": []
    },
    {
      "cell_type": "code",
      "source": [],
      "metadata": {
        "id": "OwRD9CZs-AS0"
      },
      "execution_count": null,
      "outputs": []
    },
    {
      "cell_type": "markdown",
      "source": [
        "양방향 RNN 사용하기"
      ],
      "metadata": {
        "id": "ZatfwEPk-C6h"
      }
    },
    {
      "cell_type": "code",
      "source": [],
      "metadata": {
        "id": "VFzkgcSg-Dwx"
      },
      "execution_count": null,
      "outputs": []
    },
    {
      "cell_type": "code",
      "source": [],
      "metadata": {
        "id": "IBQ2XRUn-EJR"
      },
      "execution_count": null,
      "outputs": []
    }
  ]
}