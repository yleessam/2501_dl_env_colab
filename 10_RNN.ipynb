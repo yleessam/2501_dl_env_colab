{
  "nbformat": 4,
  "nbformat_minor": 0,
  "metadata": {
    "colab": {
      "provenance": [],
      "authorship_tag": "ABX9TyNMBNVPMYSLXVLyi/2YqIUq",
      "include_colab_link": true
    },
    "kernelspec": {
      "name": "python3",
      "display_name": "Python 3"
    },
    "language_info": {
      "name": "python"
    }
  },
  "cells": [
    {
      "cell_type": "markdown",
      "metadata": {
        "id": "view-in-github",
        "colab_type": "text"
      },
      "source": [
        "<a href=\"https://colab.research.google.com/github/yleessam/2501_dl_env_colab/blob/main/10_RNN.ipynb\" target=\"_parent\"><img src=\"https://colab.research.google.com/assets/colab-badge.svg\" alt=\"Open In Colab\"/></a>"
      ]
    },
    {
      "cell_type": "code",
      "execution_count": null,
      "metadata": {
        "id": "euXP6Pzs8k_i"
      },
      "outputs": [],
      "source": [
        "!wget https://s3.amazonaws.com/keras-datasets/jena_climate_2009_2016.csv.zip\n",
        "!unzip jena_climate_2009_2016.csv.zip"
      ]
    },
    {
      "cell_type": "code",
      "source": [
        "import os\n",
        "fname = os.path.join(\"jena_climate_2009_2016.csv\")\n",
        "\n",
        "with open(fname) as f:\n",
        "    data = f.read()\n",
        "\n",
        "lines = data.split(\"\\n\")\n",
        "header = lines[0].split(\",\")\n",
        "lines = lines[1:]\n",
        "print(header)\n",
        "print(len(lines))"
      ],
      "metadata": {
        "id": "zf1im5Pw8oZE"
      },
      "execution_count": null,
      "outputs": []
    },
    {
      "cell_type": "code",
      "source": [
        "import numpy as np\n",
        "temperature = np.zeros((len(lines),))\n",
        "raw_data = np.zeros((len(lines), len(header) - 1))\n",
        "for i, line in enumerate(lines):\n",
        "    values = [float(x) for x in line.split(\",\")[1:]]\n",
        "    temperature[i] = values[1]\n",
        "    raw_data[i, :] = values[:]"
      ],
      "metadata": {
        "id": "0kIS4VW48rTi"
      },
      "execution_count": null,
      "outputs": []
    },
    {
      "cell_type": "code",
      "source": [
        "from matplotlib import pyplot as plt\n",
        "plt.plot(range(len(temperature)), temperature)\n",
        "plt.show()"
      ],
      "metadata": {
        "id": "vWFGeZ0V8tCn"
      },
      "execution_count": null,
      "outputs": []
    },
    {
      "cell_type": "markdown",
      "source": [
        "각 분할에 사용할 샘플 수 계산하기"
      ],
      "metadata": {
        "id": "OX2M37vK841M"
      }
    },
    {
      "cell_type": "markdown",
      "source": [
        "데이터 정규화"
      ],
      "metadata": {
        "id": "QxI3_wgq88GJ"
      }
    },
    {
      "cell_type": "markdown",
      "source": [
        "훈련, 검증, 테스트 데이터셋 만들기"
      ],
      "metadata": {
        "id": "X6HmehdO8-3F"
      }
    },
    {
      "cell_type": "markdown",
      "source": [
        "상식적인 기준 모델의 MAE 계산하기"
      ],
      "metadata": {
        "id": "zQsNJzpR8_7U"
      }
    },
    {
      "cell_type": "markdown",
      "source": [
        "밀집 연결 모델 훈련하고 평가하기"
      ],
      "metadata": {
        "id": "3M6eRSo29N-f"
      }
    },
    {
      "cell_type": "code",
      "source": [],
      "metadata": {
        "id": "0RgHvwvd9TNS"
      },
      "execution_count": null,
      "outputs": []
    },
    {
      "cell_type": "code",
      "source": [
        "import matplotlib.pyplot as plt\n",
        "loss = history.history[\"mae\"]\n",
        "val_loss = history.history[\"val_mae\"]\n",
        "epochs = range(1, len(loss) + 1)\n",
        "plt.figure()\n",
        "plt.plot(epochs, loss, \"bo\", label=\"Training MAE\")\n",
        "plt.plot(epochs, val_loss, \"b\", label=\"Validation MAE\")\n",
        "plt.title(\"Training and validation MAE\")\n",
        "plt.legend()\n",
        "plt.show()"
      ],
      "metadata": {
        "id": "u7KpsIa99S7e"
      },
      "execution_count": null,
      "outputs": []
    },
    {
      "cell_type": "markdown",
      "source": [
        "1D 합성곱 모델"
      ],
      "metadata": {
        "id": "aqiipCw29QwB"
      }
    },
    {
      "cell_type": "code",
      "source": [],
      "metadata": {
        "id": "SJErco4b9YR6"
      },
      "execution_count": null,
      "outputs": []
    },
    {
      "cell_type": "code",
      "source": [],
      "metadata": {
        "id": "LA4ykdKl9YnB"
      },
      "execution_count": null,
      "outputs": []
    },
    {
      "cell_type": "markdown",
      "source": [
        "간단한 LSTM 기반 모델"
      ],
      "metadata": {
        "id": "SJgyVHBR9cna"
      }
    },
    {
      "cell_type": "code",
      "source": [],
      "metadata": {
        "id": "QQJCZMNu9cNo"
      },
      "execution_count": null,
      "outputs": []
    },
    {
      "cell_type": "code",
      "source": [],
      "metadata": {
        "id": "LItU_WsO9idP"
      },
      "execution_count": null,
      "outputs": []
    },
    {
      "cell_type": "code",
      "source": [],
      "metadata": {
        "id": "SYL1zCIX9ixS"
      },
      "execution_count": null,
      "outputs": []
    },
    {
      "cell_type": "markdown",
      "source": [
        "넘파이로 구현한 간단한 RNN"
      ],
      "metadata": {
        "id": "ASAsDIab9jEg"
      }
    },
    {
      "cell_type": "code",
      "source": [],
      "metadata": {
        "id": "OWtlwTev9pFk"
      },
      "execution_count": null,
      "outputs": []
    },
    {
      "cell_type": "code",
      "source": [],
      "metadata": {
        "id": "yg3LadTU9p1D"
      },
      "execution_count": null,
      "outputs": []
    },
    {
      "cell_type": "markdown",
      "source": [
        "어떤 길이의 시퀀스도 처리할 수 있는 RNN 층"
      ],
      "metadata": {
        "id": "gKI7i_Yo9qa5"
      }
    },
    {
      "cell_type": "code",
      "source": [],
      "metadata": {
        "id": "LZJrz90e9u_h"
      },
      "execution_count": null,
      "outputs": []
    },
    {
      "cell_type": "markdown",
      "source": [
        "마지막 출력 스텝만 반환하는 RNN 층"
      ],
      "metadata": {
        "id": "hnmsrbCJ9vrr"
      }
    },
    {
      "cell_type": "code",
      "source": [],
      "metadata": {
        "id": "mW__2KqG9wPj"
      },
      "execution_count": null,
      "outputs": []
    },
    {
      "cell_type": "markdown",
      "source": [
        "전체 출력 시퀀스를 반환하는 RNN 층"
      ],
      "metadata": {
        "id": "ZMkRb7Pf9yTC"
      }
    },
    {
      "cell_type": "code",
      "source": [],
      "metadata": {
        "id": "n4SJpb5K9y7X"
      },
      "execution_count": null,
      "outputs": []
    },
    {
      "cell_type": "markdown",
      "source": [
        "스태킹(stacking) RNN 층"
      ],
      "metadata": {
        "id": "Ixo98x2_9zR2"
      }
    },
    {
      "cell_type": "code",
      "source": [],
      "metadata": {
        "id": "j-rwRTgA92Q2"
      },
      "execution_count": null,
      "outputs": []
    },
    {
      "cell_type": "markdown",
      "source": [
        "과대적합을 감소하기 위해 순환 드롭아웃 사용하기"
      ],
      "metadata": {
        "id": "SrIXGFjD93KK"
      }
    },
    {
      "cell_type": "code",
      "source": [],
      "metadata": {
        "id": "lPFUjQ1496O7"
      },
      "execution_count": null,
      "outputs": []
    },
    {
      "cell_type": "code",
      "source": [],
      "metadata": {
        "id": "r47nFh1F976n"
      },
      "execution_count": null,
      "outputs": []
    },
    {
      "cell_type": "markdown",
      "source": [
        "드롭아웃 규제와 스태킹을 적용한 GRU 모델을 훈련하고 평가하기"
      ],
      "metadata": {
        "id": "ttBDgQBp9_bK"
      }
    },
    {
      "cell_type": "code",
      "source": [],
      "metadata": {
        "id": "uGzY6Ch5-ABm"
      },
      "execution_count": null,
      "outputs": []
    },
    {
      "cell_type": "code",
      "source": [],
      "metadata": {
        "id": "OwRD9CZs-AS0"
      },
      "execution_count": null,
      "outputs": []
    },
    {
      "cell_type": "markdown",
      "source": [
        "양방향 RNN 사용하기"
      ],
      "metadata": {
        "id": "ZatfwEPk-C6h"
      }
    },
    {
      "cell_type": "code",
      "source": [],
      "metadata": {
        "id": "VFzkgcSg-Dwx"
      },
      "execution_count": null,
      "outputs": []
    },
    {
      "cell_type": "code",
      "source": [],
      "metadata": {
        "id": "IBQ2XRUn-EJR"
      },
      "execution_count": null,
      "outputs": []
    }
  ]
}