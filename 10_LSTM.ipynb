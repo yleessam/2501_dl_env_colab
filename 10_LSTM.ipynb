{
  "nbformat": 4,
  "nbformat_minor": 0,
  "metadata": {
    "colab": {
      "provenance": [],
      "authorship_tag": "ABX9TyNcRoMlSnNkCnKnoTh0VVuJ",
      "include_colab_link": true
    },
    "kernelspec": {
      "name": "python3",
      "display_name": "Python 3"
    },
    "language_info": {
      "name": "python"
    }
  },
  "cells": [
    {
      "cell_type": "markdown",
      "metadata": {
        "id": "view-in-github",
        "colab_type": "text"
      },
      "source": [
        "<a href=\"https://colab.research.google.com/github/yleessam/2501_dl_env_colab/blob/main/10_LSTM.ipynb\" target=\"_parent\"><img src=\"https://colab.research.google.com/assets/colab-badge.svg\" alt=\"Open In Colab\"/></a>"
      ]
    },
    {
      "cell_type": "code",
      "execution_count": null,
      "metadata": {
        "id": "QM1Myqp3dMIf"
      },
      "outputs": [],
      "source": [
        "import numpy as np\n",
        "import pandas as pd\n",
        "import matplotlib.pyplot as plt\n",
        "import seaborn as sns\n",
        "from keras.preprocessing import sequence\n",
        "\n",
        "from keras.models import Sequential\n",
        "from keras.layers import Dense, LSTM, Embedding\n",
        "\n",
        "# seed 값 설정\n",
        "np.random.seed(0)\n",
        "tf.random.set_seed(3)"
      ]
    },
    {
      "cell_type": "code",
      "source": [
        "# Reuters 뉴스 데이터 불러오기\n",
        "from keras.datasets import reuters\n",
        "\n",
        "(X_train, y_train), (X_test, y_test) = reuters.load_data(num_words=1000, test_split=0.2)"
      ],
      "metadata": {
        "id": "Nt3xTquRefQf"
      },
      "execution_count": null,
      "outputs": []
    },
    {
      "cell_type": "code",
      "source": [
        "category = np.max(y_train) + 1\n",
        "print('카테고리: ', category)\n",
        "print('학습용 뉴스 기사: ', len(X_train))\n",
        "print('테스트용 뉴스 기사: ', len(X_test))\n",
        "print(X_train[0])"
      ],
      "metadata": {
        "id": "96WjnTQielWJ"
      },
      "execution_count": null,
      "outputs": []
    }
  ]
}