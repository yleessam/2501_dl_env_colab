{
  "cells": [
    {
      "cell_type": "code",
      "execution_count": null,
      "metadata": {
        "id": "FqtbPvITMcVl"
      },
      "outputs": [],
      "source": [
        "#YOLO 라이브러리\n",
        "!pip install ultralytics"
      ]
    },
    {
      "cell_type": "code",
      "execution_count": null,
      "metadata": {
        "colab": {
          "base_uri": "https://localhost:8080/"
        },
        "id": "YODUqobAdOvH",
        "outputId": "af9fbc59-f76f-4334-933e-b1b070cf6b25"
      },
      "outputs": [
        {
          "name": "stdout",
          "output_type": "stream",
          "text": [
            "Ultralytics 8.3.61 🚀 Python-3.11.11 torch-2.5.1+cu121 CPU (Intel Xeon 2.20GHz)\n",
            "Setup complete ✅ (2 CPUs, 12.7 GB RAM, 30.9/107.7 GB disk)\n"
          ]
        }
      ],
      "source": [
        "import ultralytics\n",
        "\n",
        "ultralytics.checks()# 버전 사용환경"
      ]
    },
    {
      "cell_type": "markdown",
      "metadata": {
        "id": "ew08I7UMQrRs"
      },
      "source": [
        "# 테스트 이미지 display"
      ]
    },
    {
      "cell_type": "code",
      "execution_count": null,
      "metadata": {
        "id": "iZqOMPGiCkbh"
      },
      "outputs": [],
      "source": [
        "from PIL import Image # Pillow\n",
        "from IPython.display import display\n",
        "\n",
        "with Image.open(output_file) as test_image:\n",
        "    display(test_image)\n"
      ]
    },
    {
      "cell_type": "markdown",
      "metadata": {
        "id": "LDgCA34zUJ2l"
      },
      "source": [
        "# 객체 탐지"
      ]
    },
    {
      "cell_type": "code",
      "execution_count": null,
      "metadata": {
        "colab": {
          "base_uri": "https://localhost:8080/"
        },
        "id": "tXRIL9V6y4R1",
        "outputId": "6824b999-5301-4db3-be16-682480d4a1e2"
      },
      "outputs": [
        {
          "name": "stdout",
          "output_type": "stream",
          "text": [
            "Downloading https://github.com/ultralytics/assets/releases/download/v8.3.0/yolov8n.pt to 'yolov8n.pt'...\n"
          ]
        },
        {
          "name": "stderr",
          "output_type": "stream",
          "text": [
            "100%|██████████| 6.25M/6.25M [00:00<00:00, 213MB/s]\n"
          ]
        }
      ],
      "source": [
        "from ultralytics import YOLO\n",
        "\n",
        "# MS COCO 데이터셋 사전학습된 yolov8 모델 로드함\n",
        "model = YOLO('yolov8n.pt')"
      ]
    },
    {
      "cell_type": "code",
      "execution_count": null,
      "metadata": {
        "colab": {
          "base_uri": "https://localhost:8080/"
        },
        "id": "qrwVvNs0GZ74",
        "outputId": "f44c601d-f1bb-412a-a793-321a922a979f"
      },
      "outputs": [
        {
          "name": "stdout",
          "output_type": "stream",
          "text": [
            "<class 'dict'> 80\n",
            "{0: 'person', 1: 'bicycle', 2: 'car', 3: 'motorcycle', 4: 'airplane', 5: 'bus', 6: 'train', 7: 'truck', 8: 'boat', 9: 'traffic light', 10: 'fire hydrant', 11: 'stop sign', 12: 'parking meter', 13: 'bench', 14: 'bird', 15: 'cat', 16: 'dog', 17: 'horse', 18: 'sheep', 19: 'cow', 20: 'elephant', 21: 'bear', 22: 'zebra', 23: 'giraffe', 24: 'backpack', 25: 'umbrella', 26: 'handbag', 27: 'tie', 28: 'suitcase', 29: 'frisbee', 30: 'skis', 31: 'snowboard', 32: 'sports ball', 33: 'kite', 34: 'baseball bat', 35: 'baseball glove', 36: 'skateboard', 37: 'surfboard', 38: 'tennis racket', 39: 'bottle', 40: 'wine glass', 41: 'cup', 42: 'fork', 43: 'knife', 44: 'spoon', 45: 'bowl', 46: 'banana', 47: 'apple', 48: 'sandwich', 49: 'orange', 50: 'broccoli', 51: 'carrot', 52: 'hot dog', 53: 'pizza', 54: 'donut', 55: 'cake', 56: 'chair', 57: 'couch', 58: 'potted plant', 59: 'bed', 60: 'dining table', 61: 'toilet', 62: 'tv', 63: 'laptop', 64: 'mouse', 65: 'remote', 66: 'keyboard', 67: 'cell phone', 68: 'microwave', 69: 'oven', 70: 'toaster', 71: 'sink', 72: 'refrigerator', 73: 'book', 74: 'clock', 75: 'vase', 76: 'scissors', 77: 'teddy bear', 78: 'hair drier', 79: 'toothbrush'}\n"
          ]
        }
      ],
      "source": [
        "print(type(model.names), len(model.names))\n",
        "print(model.names)"
      ]
    },
    {
      "cell_type": "markdown",
      "metadata": {
        "id": "DNrxgPHoeZ-4"
      },
      "source": [
        "# 테스트 이미지에서 객체 탐지"
      ]
    },
    {
      "cell_type": "code",
      "execution_count": null,
      "metadata": {
        "colab": {
          "base_uri": "https://localhost:8080/"
        },
        "id": "Pq16EEckXl28",
        "outputId": "e08c6a82-e291-4223-c63d-fb179b3b2c98"
      },
      "outputs": [
        {
          "name": "stdout",
          "output_type": "stream",
          "text": [
            "\n",
            "image 1/1 /content/street2.jpg: 384x640 13 persons, 12 cars, 270.2ms\n",
            "Speed: 12.8ms preprocess, 270.2ms inference, 30.7ms postprocess per image at shape (1, 3, 384, 640)\n",
            "Results saved to \u001b[1mruns/detect/predict\u001b[0m\n"
          ]
        }
      ],
      "source": [
        "results = model.predict(source='*.jpg', save=True)"
      ]
    },
    {
      "cell_type": "code",
      "execution_count": null,
      "metadata": {
        "id": "fu8WN90FDD8P"
      },
      "outputs": [],
      "source": [
        "from PIL import Image\n",
        "from IPython.display import display\n",
        "\n",
        "with Image.open('/content/runs/detect/predict/'+output_file) as pred_image:\n",
        "    # 이미지를 display 함수를 사용하여 표시합니다.\n",
        "    display(pred_image)"
      ]
    },
    {
      "cell_type": "code",
      "execution_count": null,
      "metadata": {
        "colab": {
          "base_uri": "https://localhost:8080/"
        },
        "id": "t_S2IjLHVS2Q",
        "outputId": "8c97b39f-7e52-4f29-8138-4371e314a1cd"
      },
      "outputs": [
        {
          "name": "stdout",
          "output_type": "stream",
          "text": [
            "\n",
            "{class num:counts} = {0.0: 13, 2.0: 12} \n",
            "\n",
            "class num = 0 , class_name = person\n",
            "class num = 0 , class_name = person\n",
            "class num = 0 , class_name = person\n",
            "class num = 2 , class_name = car\n",
            "class num = 2 , class_name = car\n",
            "class num = 2 , class_name = car\n",
            "class num = 2 , class_name = car\n",
            "class num = 0 , class_name = person\n",
            "class num = 0 , class_name = person\n",
            "class num = 2 , class_name = car\n",
            "class num = 0 , class_name = person\n",
            "class num = 0 , class_name = person\n",
            "class num = 0 , class_name = person\n",
            "class num = 0 , class_name = person\n",
            "class num = 2 , class_name = car\n",
            "class num = 0 , class_name = person\n",
            "class num = 2 , class_name = car\n",
            "class num = 2 , class_name = car\n",
            "class num = 0 , class_name = person\n",
            "class num = 0 , class_name = person\n",
            "class num = 0 , class_name = person\n",
            "class num = 2 , class_name = car\n",
            "class num = 2 , class_name = car\n",
            "class num = 2 , class_name = car\n",
            "class num = 2 , class_name = car\n"
          ]
        }
      ],
      "source": [
        "import numpy as np\n",
        "\n",
        "for result in results:\n",
        "\n",
        "    uniq, cnt = np.unique(result.boxes.cls.cpu().numpy(), return_counts=True)  # Torch.Tensor -> numpy\n",
        "    uniq_cnt_dict = dict(zip(uniq, cnt))\n",
        "\n",
        "    print('\\n{class num:counts} =', uniq_cnt_dict,'\\n')\n",
        "\n",
        "    for c in result.boxes.cls:\n",
        "        print('class num =', int(c), ', class_name =', model.names[int(c)])"
      ]
    }
  ],
  "metadata": {
    "colab": {
      "provenance": []
    },
    "gpuClass": "standard",
    "kernelspec": {
      "display_name": "Python 3",
      "language": "python",
      "name": "python3"
    },
    "language_info": {
      "codemirror_mode": {
        "name": "ipython",
        "version": 3
      },
      "file_extension": ".py",
      "mimetype": "text/x-python",
      "name": "python",
      "nbconvert_exporter": "python",
      "pygments_lexer": "ipython3",
      "version": "3.7.3"
    }
  },
  "nbformat": 4,
  "nbformat_minor": 0
}