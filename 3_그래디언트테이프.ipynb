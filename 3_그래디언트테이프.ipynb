{
  "nbformat": 4,
  "nbformat_minor": 0,
  "metadata": {
    "colab": {
      "provenance": [],
      "authorship_tag": "ABX9TyNRz7090l5t8jewXaAea9+I",
      "include_colab_link": true
    },
    "kernelspec": {
      "name": "python3",
      "display_name": "Python 3"
    },
    "language_info": {
      "name": "python"
    }
  },
  "cells": [
    {
      "cell_type": "markdown",
      "metadata": {
        "id": "view-in-github",
        "colab_type": "text"
      },
      "source": [
        "<a href=\"https://colab.research.google.com/github/yleessam/2501_dl_env_colab/blob/main/3_%EA%B7%B8%EB%9E%98%EB%94%94%EC%96%B8%ED%8A%B8%ED%85%8C%EC%9D%B4%ED%94%84.ipynb\" target=\"_parent\"><img src=\"https://colab.research.google.com/assets/colab-badge.svg\" alt=\"Open In Colab\"/></a>"
      ]
    },
    {
      "cell_type": "code",
      "execution_count": 1,
      "metadata": {
        "colab": {
          "base_uri": "https://localhost:8080/"
        },
        "id": "ooN5iVAyZaO9",
        "outputId": "b3d7e202-6b9a-4703-9860-eaee49ed2edf"
      },
      "outputs": [
        {
          "output_type": "execute_result",
          "data": {
            "text/plain": [
              "<tf.Tensor: shape=(), dtype=float32, numpy=2.0>"
            ]
          },
          "metadata": {},
          "execution_count": 1
        }
      ],
      "source": [
        "import tensorflow as tf\n",
        "\n",
        "#1. scala 값의 기울기 계산\n",
        "\n",
        "x = tf.Variable(0.)\n",
        "\n",
        "with tf.GradientTape() as tape:\n",
        "  #y를 계산하기 위한 규칙\n",
        "  y = 2*x + 3\n",
        "\n",
        "grad_y_x = tape.gradient(y, x)\n",
        "grad_y_x"
      ]
    },
    {
      "cell_type": "code",
      "source": [
        "#2. 행렬의 기울기 계산\n",
        "\n",
        "x = tf.Variable( tf.zeros((2,2)))\n",
        "x"
      ],
      "metadata": {
        "colab": {
          "base_uri": "https://localhost:8080/"
        },
        "id": "1dT9YgaNbBiO",
        "outputId": "e9b4d0f4-afcc-4c5f-e452-a819ee6cd8b4"
      },
      "execution_count": 2,
      "outputs": [
        {
          "output_type": "execute_result",
          "data": {
            "text/plain": [
              "<tf.Variable 'Variable:0' shape=(2, 2) dtype=float32, numpy=\n",
              "array([[0., 0.],\n",
              "       [0., 0.]], dtype=float32)>"
            ]
          },
          "metadata": {},
          "execution_count": 2
        }
      ]
    },
    {
      "cell_type": "code",
      "source": [
        "with tf.GradientTape() as tape:\n",
        "  y = 2*x + 3\n",
        "\n",
        "grad_y_x = tape.gradient( y, x )\n",
        "grad_y_x"
      ],
      "metadata": {
        "colab": {
          "base_uri": "https://localhost:8080/"
        },
        "id": "WobLjNHabNuI",
        "outputId": "85e4f649-ecd4-485e-b006-721c2114bc05"
      },
      "execution_count": 3,
      "outputs": [
        {
          "output_type": "execute_result",
          "data": {
            "text/plain": [
              "<tf.Tensor: shape=(2, 2), dtype=float32, numpy=\n",
              "array([[2., 2.],\n",
              "       [2., 2.]], dtype=float32)>"
            ]
          },
          "metadata": {},
          "execution_count": 3
        }
      ]
    },
    {
      "cell_type": "code",
      "source": [
        "#3. 선형함수의 기울기 w 계산\n",
        "\n",
        "#가중치=기울기\n",
        "W = tf.Variable(tf.random.uniform((2,2)))\n",
        "b = tf.Variable(tf.zeros((2,)))\n",
        "\n",
        "x = tf.random.uniform((2,2))\n",
        "\n",
        "with tf.GradientTape() as tape:\n",
        "  y = tf.matmul(x,W) + b  # w*x, 선형함수식\n",
        "\n",
        "grad_y_w_b = tape.gradient( y, [W,b] ) #편미분\n",
        "grad_y_w_b"
      ],
      "metadata": {
        "colab": {
          "base_uri": "https://localhost:8080/"
        },
        "id": "h8fVPstTbz60",
        "outputId": "ae06a3ad-698f-44f8-a9ad-8d3e84c55ae4"
      },
      "execution_count": 7,
      "outputs": [
        {
          "output_type": "execute_result",
          "data": {
            "text/plain": [
              "[<tf.Tensor: shape=(2, 2), dtype=float32, numpy=\n",
              " array([[0.43330967, 0.43330967],\n",
              "        [0.9896519 , 0.9896519 ]], dtype=float32)>,\n",
              " <tf.Tensor: shape=(2,), dtype=float32, numpy=array([2., 2.], dtype=float32)>]"
            ]
          },
          "metadata": {},
          "execution_count": 7
        }
      ]
    }
  ]
}